{
 "cells": [
  {
   "cell_type": "markdown",
   "metadata": {
    "collapsed": true,
    "pycharm": {
     "name": "#%% md\n"
    }
   },
   "source": [
    "### 第三天  分支结构\n",
    "---\n",
    "1、英制单位英寸和公制单位厘米的转换"
   ]
  },
  {
   "cell_type": "code",
   "execution_count": 1,
   "outputs": [
    {
     "name": "stdout",
     "text": [
      "23.000000英寸 = 58.420000厘米\n"
     ],
     "output_type": "stream"
    }
   ],
   "source": [
    "value = float(input(\"请输入长度：\"))\n",
    "unit = input(\"请输入单位：\")\n",
    "if unit == 'in' or unit == '英寸':\n",
    "    print('%f英寸 = %f厘米' % (value, value * 2.54))\n",
    "elif unit == 'cm' or unit == '厘米':\n",
    "    print('%f厘米 = %f英寸' % (value, value / 2.54))\n",
    "else:\n",
    "    print('请输入有效的单位')"
   ],
   "metadata": {
    "collapsed": false,
    "pycharm": {
     "name": "#%%\n",
     "is_executing": false
    }
   }
  },
  {
   "cell_type": "markdown",
   "source": [
    "2、百分制成绩转等级制成绩(90分以上，输出A;80分~89分，输出B;70分~79分，输出C;60分~69分，输出D;60分以下，输出E)"
   ],
   "metadata": {
    "collapsed": false,
    "pycharm": {
     "name": "#%% md\n"
    }
   }
  },
  {
   "cell_type": "code",
   "execution_count": 2,
   "outputs": [
    {
     "name": "stdout",
     "text": [
      "对应的等级是: A\n"
     ],
     "output_type": "stream"
    }
   ],
   "source": [
    "score = float(input('请输入成绩: '))\n",
    "if score >= 90:\n",
    "    grade = 'A'\n",
    "elif score >= 80:\n",
    "    grade = 'B'\n",
    "elif score >= 70:\n",
    "    grade = 'C'\n",
    "elif score >= 60:\n",
    "    grade = 'D'\n",
    "else:\n",
    "    grade = 'E'\n",
    "print('对应的等级是:', grade)"
   ],
   "metadata": {
    "collapsed": false,
    "pycharm": {
     "name": "#%%\n",
     "is_executing": false
    }
   }
  },
  {
   "cell_type": "markdown",
   "source": [
    "3、分段函数 $f(x)=\\begin{cases}\n",
    " 3x-5 & (x>1) \\\\\n",
    " x+2 & (-1<=x<=1) \\\\\n",
    " 5x+3 & (x<-1)\n",
    " \\end{cases} $"
   ],
   "metadata": {
    "collapsed": false,
    "pycharm": {
     "name": "#%% md\n"
    }
   }
  },
  {
   "cell_type": "code",
   "execution_count": 3,
   "outputs": [
    {
     "name": "stdout",
     "text": [
      "f(34.00) = 97.00\n"
     ],
     "output_type": "stream"
    }
   ],
   "source": [
    "x = float(input('x = '))\n",
    "if x > 1:\n",
    "    y = 3 * x - 5\n",
    "elif x >= -1:\n",
    "    y = x + 2\n",
    "else:\n",
    "    y = 5 * x + 3\n",
    "print('f(%.2f) = %.2f' % (x, y))\n",
    " "
   ],
   "metadata": {
    "collapsed": false,
    "pycharm": {
     "name": "#%% \n",
     "is_executing": false
    }
   }
  },
  {
   "cell_type": "markdown",
   "source": [
    "4、随机数的使用"
   ],
   "metadata": {
    "collapsed": false,
    "pycharm": {
     "name": "#%% md\n"
    }
   }
  },
  {
   "cell_type": "code",
   "execution_count": 9,
   "outputs": [
    {
     "name": "stdout",
     "text": [
      "学狗叫\n"
     ],
     "output_type": "stream"
    }
   ],
   "source": [
    "from random import randint\n",
    "\n",
    "face = randint(1,6)\n",
    "if face == 1:\n",
    "    result = '唱首歌'\n",
    "elif face == 2:\n",
    "    result = '跳个舞'\n",
    "elif face == 3:\n",
    "    result = '学狗叫'\n",
    "elif face == 4:\n",
    "    result = '做俯卧撑'\n",
    "elif face == 5:\n",
    "    result = '念绕口令'\n",
    "else:\n",
    "    result = '讲冷笑话'\n",
    "print(result)"
   ],
   "metadata": {
    "collapsed": false,
    "pycharm": {
     "name": "#%%\n",
     "is_executing": false
    }
   }
  },
  {
   "cell_type": "markdown",
   "source": [
    "5、输入月收入和五险一金计算个人所得税(说明：写这段代码时新的个人所得税计算方式还没有颁布)"
   ],
   "metadata": {
    "collapsed": false,
    "pycharm": {
     "name": "#%% md\n"
    }
   }
  },
  {
   "cell_type": "code",
   "execution_count": 10,
   "outputs": [
    {
     "name": "stdout",
     "text": [
      "个人所得税: ￥0.00元\n",
      "实际到手收入: ￥1000.00元\n"
     ],
     "output_type": "stream"
    }
   ],
   "source": [
    "salary = float(input('本月收入: '))\n",
    "insurance = float(input('五险一金: '))\n",
    "diff = salary - insurance - 3500\n",
    "if diff <= 0:\n",
    "    rate = 0\n",
    "    deduction = 0\n",
    "elif diff < 1500:\n",
    "    rate = 0.03\n",
    "    deduction = 0\n",
    "elif diff < 4500:\n",
    "    rate = 0.1\n",
    "    deduction = 105\n",
    "elif diff < 9000:\n",
    "    rate = 0.2\n",
    "    deduction = 555\n",
    "elif diff < 35000:\n",
    "    rate = 0.25\n",
    "    deduction = 1005\n",
    "elif diff < 55000:\n",
    "    rate = 0.3\n",
    "    deduction = 2755\n",
    "elif diff < 80000:\n",
    "    rate = 0.35\n",
    "    deduction = 5505\n",
    "else:\n",
    "    rate = 0.45\n",
    "    deduction = 13505\n",
    "tax = abs(diff * rate - deduction)\n",
    "print('个人所得税: ￥%.2f元' % tax)\n",
    "print('实际到手收入: ￥%.2f元' % (diff + 3500 - tax))"
   ],
   "metadata": {
    "collapsed": false,
    "pycharm": {
     "name": "#%%\n",
     "is_executing": false
    }
   }
  },
  {
   "cell_type": "markdown",
   "source": [
    "6、判断输入的边长能否构成三角形 (依据 两边之和大于第三边)"
   ],
   "metadata": {
    "collapsed": false,
    "pycharm": {
     "name": "#%% md\n"
    }
   }
  },
  {
   "cell_type": "code",
   "execution_count": 11,
   "outputs": [
    {
     "name": "stdout",
     "text": [
      "周长: 9.000000\n",
      "面积: 2.904738\n"
     ],
     "output_type": "stream"
    }
   ],
   "source": [
    "import math\n",
    "\n",
    "a = float(input('a = '))\n",
    "b = float(input('b = '))\n",
    "c = float(input('c = '))\n",
    "if a + b > c and a + c > b and b + c > a:\n",
    "    print('周长: %f' % (a + b + c))\n",
    "    p = (a + b + c) / 2\n",
    "    area = math.sqrt(p * (p - a) * (p - b) * (p - c))\n",
    "    print('面积: %f' % area)\n",
    "else:\n",
    "    print('不能构成三角形')\n",
    "    "
   ],
   "metadata": {
    "collapsed": false,
    "pycharm": {
     "name": "#%%\n",
     "is_executing": false
    }
   }
  },
  {
   "cell_type": "markdown",
   "source": [
    "7、用户验证逻辑"
   ],
   "metadata": {
    "collapsed": false,
    "pycharm": {
     "name": "#%% md\n"
    }
   }
  },
  {
   "cell_type": "code",
   "execution_count": 12,
   "outputs": [
    {
     "name": "stdout",
     "text": [
      "身份验证失败!\n"
     ],
     "output_type": "stream"
    }
   ],
   "source": [
    "# import getpass\n",
    "# from getpass import getpass\n",
    "# from getpass import *\n",
    "\n",
    "username = input('请输入用户名: ')\n",
    "password = input('请输入口令: ')\n",
    "# 输入口令的时候终端中没有回显\n",
    "# password = getpass.getpass('请输入口令: ')\n",
    "if username == 'admin' and password == '123456':\n",
    "    print('身份验证成功!')\n",
    "else:\n",
    "    print('身份验证失败!')\n"
   ],
   "metadata": {
    "collapsed": false,
    "pycharm": {
     "name": "#%%\n",
     "is_executing": false
    }
   }
  }
 ],
 "metadata": {
  "kernelspec": {
   "display_name": "Python 3",
   "language": "python",
   "name": "python3"
  },
  "language_info": {
   "codemirror_mode": {
    "name": "ipython",
    "version": 2
   },
   "file_extension": ".py",
   "mimetype": "text/x-python",
   "name": "python",
   "nbconvert_exporter": "python",
   "pygments_lexer": "ipython2",
   "version": "2.7.6"
  },
  "pycharm": {
   "stem_cell": {
    "cell_type": "raw",
    "source": [],
    "metadata": {
     "collapsed": false
    }
   }
  }
 },
 "nbformat": 4,
 "nbformat_minor": 0
}