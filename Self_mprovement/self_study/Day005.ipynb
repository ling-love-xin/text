{
 "cells": [
  {
   "cell_type": "markdown",
   "metadata": {
    "collapsed": true,
    "pycharm": {
     "name": "#%% md\n"
    }
   },
   "source": [
    "### 第五天 构造程序逻辑\n",
    "---\n",
    "1、百錢百鸡\n",
    "\n",
    "1只公鸡5元 1只母鸡3元 3只小鸡1元 用100元买100只鸡\n",
    "问公鸡 母鸡 小鸡各有多少只"
   ]
  },
  {
   "cell_type": "code",
   "execution_count": 1,
   "outputs": [
    {
     "name": "stdout",
     "text": [
      "公鸡: 0只, 母鸡: 25只, 小鸡: 75只\n",
      "公鸡: 4只, 母鸡: 18只, 小鸡: 78只\n",
      "公鸡: 8只, 母鸡: 11只, 小鸡: 81只\n",
      "公鸡: 12只, 母鸡: 4只, 小鸡: 84只\n"
     ],
     "output_type": "stream"
    }
   ],
   "source": [
    "for x in range(0, 20):\n",
    "    for y in range(0, 33):\n",
    "        z = 100 - x - y\n",
    "        if 5 * x + 3 * y + z / 3 == 100:\n",
    "            print('公鸡: %d只, 母鸡: %d只, 小鸡: %d只' % (x, y, z))\n",
    "    "
   ],
   "metadata": {
    "collapsed": false,
    "pycharm": {
     "name": "#%%\n",
     "is_executing": false
    }
   }
  },
  {
   "cell_type": "markdown",
   "source": [
    "2、Craps赌博游戏\n",
    "\n",
    "玩家摇两颗色子 如果第一次摇出7点或11点 玩家胜\n",
    "如果摇出2点 3点 12点 庄家胜 其他情况游戏继续\n",
    "玩家再次要色子 如果摇出7点 庄家胜\n",
    "如果摇出第一次摇的点数 玩家胜\n",
    "否则游戏继续 玩家继续摇色子\n",
    "玩家进入游戏时有1000元的赌注 全部输光游戏结束"
   ],
   "metadata": {
    "collapsed": false,
    "pycharm": {
     "name": "#%% md\n"
    }
   }
  },
  {
   "cell_type": "code",
   "execution_count": 3,
   "outputs": [
    {
     "name": "stdout",
     "text": [
      "您的总资产为：100\n",
      "玩家摇出了11点\n",
      "玩家胜！\n",
      "您的总资产为：135\n",
      "玩家摇出了6点\n",
      "玩家摇出了8点\n",
      "玩家摇出了8点\n",
      "玩家摇出了5点\n",
      "玩家摇出了4点\n",
      "玩家摇出了11点\n",
      "玩家摇出了3点\n",
      "玩家摇出了7点\n",
      "庄家胜\n",
      "您的总资产为：90\n",
      "下注金额不符合范围\n",
      "玩家摇出了7点\n",
      "玩家胜！\n",
      "您的总资产为：111\n",
      "玩家摇出了4点\n",
      "玩家摇出了9点\n",
      "玩家摇出了8点\n",
      "玩家摇出了7点\n",
      "庄家胜\n",
      "您的总资产为：88\n",
      "玩家摇出了2点\n",
      "庄家胜！\n",
      "您的总资产为：56\n",
      "下注金额不符合范围\n",
      "下注金额不符合范围\n",
      "玩家摇出了5点\n",
      "玩家摇出了9点\n",
      "玩家摇出了8点\n",
      "玩家摇出了5点\n",
      "玩家胜\n",
      "您的总资产为：87\n",
      "玩家摇出了6点\n",
      "玩家摇出了5点\n",
      "玩家摇出了10点\n",
      "玩家摇出了9点\n",
      "玩家摇出了5点\n",
      "玩家摇出了8点\n",
      "玩家摇出了6点\n",
      "玩家胜\n",
      "您的总资产为：119\n",
      "玩家摇出了4点\n",
      "玩家摇出了11点\n",
      "玩家摇出了3点\n",
      "玩家摇出了9点\n",
      "玩家摇出了7点\n",
      "庄家胜\n",
      "您的总资产为：87\n"
     ],
     "output_type": "stream"
    },
    {
     "traceback": [
      "\u001b[1;31m---------------------------------------------------------------------------\u001b[0m",
      "\u001b[1;31mValueError\u001b[0m                                Traceback (most recent call last)",
      "\u001b[1;32m<ipython-input-3-e6f9ba081e49>\u001b[0m in \u001b[0;36m<module>\u001b[1;34m\u001b[0m\n\u001b[0;32m      7\u001b[0m     \u001b[0mneeds_go_on\u001b[0m \u001b[1;33m=\u001b[0m \u001b[1;32mFalse\u001b[0m\u001b[1;33m\u001b[0m\u001b[1;33m\u001b[0m\u001b[0m\n\u001b[0;32m      8\u001b[0m     \u001b[1;32mwhile\u001b[0m \u001b[1;32mTrue\u001b[0m\u001b[1;33m:\u001b[0m\u001b[1;33m\u001b[0m\u001b[1;33m\u001b[0m\u001b[0m\n\u001b[1;32m----> 9\u001b[1;33m         \u001b[0mdebt\u001b[0m \u001b[1;33m=\u001b[0m \u001b[0mint\u001b[0m\u001b[1;33m(\u001b[0m\u001b[0minput\u001b[0m\u001b[1;33m(\u001b[0m\u001b[1;34m\"请您下注：\"\u001b[0m\u001b[1;33m)\u001b[0m\u001b[1;33m)\u001b[0m\u001b[1;33m\u001b[0m\u001b[1;33m\u001b[0m\u001b[0m\n\u001b[0m\u001b[0;32m     10\u001b[0m         \u001b[1;32mif\u001b[0m \u001b[1;36m0\u001b[0m\u001b[1;33m<\u001b[0m \u001b[0mdebt\u001b[0m \u001b[1;33m<=\u001b[0m \u001b[0mmoney\u001b[0m\u001b[1;33m:\u001b[0m\u001b[1;33m\u001b[0m\u001b[1;33m\u001b[0m\u001b[0m\n\u001b[0;32m     11\u001b[0m             \u001b[1;32mbreak\u001b[0m\u001b[1;33m\u001b[0m\u001b[1;33m\u001b[0m\u001b[0m\n",
      "\u001b[1;31mValueError\u001b[0m: invalid literal for int() with base 10: ''"
     ],
     "ename": "ValueError",
     "evalue": "invalid literal for int() with base 10: ''",
     "output_type": "error"
    }
   ],
   "source": [
    "from random import randint\n",
    "\n",
    "money = 100\n",
    "\n",
    "while money:\n",
    "    print(f\"您的总资产为：{money}\")\n",
    "    needs_go_on = False\n",
    "    while True:\n",
    "        debt = int(input(\"请您下注：\"))\n",
    "        if 0< debt <= money:\n",
    "            break\n",
    "        else:\n",
    "            print(\"下注金额不符合范围\")\n",
    "    first_ = randint(1,6)+randint(1,6)\n",
    "    print('玩家摇出了%d点' % first_)\n",
    "    if first_== 7 or first_ == 11:\n",
    "        print('玩家胜！')\n",
    "        money+=debt\n",
    "    elif first_ == 2 or first_ == 3 or first_ == 12:\n",
    "        print(\"庄家胜！\")\n",
    "        money -= debt\n",
    "    else:\n",
    "        needs_go_on = True\n",
    "        \n",
    "    while needs_go_on:\n",
    "        current = randint(1, 6) + randint(1, 6)\n",
    "        print('玩家摇出了%d点' % current)\n",
    "        if current == 7:\n",
    "            print('庄家胜')\n",
    "            money -= debt\n",
    "            needs_go_on = False\n",
    "        elif current == first_:\n",
    "            print('玩家胜')\n",
    "            money += debt\n",
    "            needs_go_on = False\n",
    "print('你破产了, 游戏结束!')"
   ],
   "metadata": {
    "collapsed": false,
    "pycharm": {
     "name": "#%%\n",
     "is_executing": false
    }
   }
  },
  {
   "cell_type": "markdown",
   "source": [
    "3、输出斐波那契数列的前20个数"
   ],
   "metadata": {
    "collapsed": false,
    "pycharm": {
     "name": "#%% md\n"
    }
   }
  },
  {
   "cell_type": "code",
   "execution_count": 5,
   "outputs": [
    {
     "name": "stdout",
     "text": [
      "1\n",
      "1\n",
      "2\n",
      "3\n",
      "5\n",
      "8\n",
      "13\n",
      "21\n",
      "34\n",
      "55\n",
      "89\n",
      "144\n",
      "233\n",
      "377\n",
      "610\n",
      "987\n",
      "1597\n",
      "2584\n",
      "4181\n",
      "6765\n"
     ],
     "output_type": "stream"
    }
   ],
   "source": [
    "a = 0\n",
    "b = 1\n",
    "for i in range(20):\n",
    "    a,b = b, a+b\n",
    "    print(a)\n",
    "    "
   ],
   "metadata": {
    "collapsed": false,
    "pycharm": {
     "name": "#%%\n",
     "is_executing": false
    }
   }
  },
  {
   "cell_type": "markdown",
   "source": [
    "4、猜数字游戏"
   ],
   "metadata": {
    "collapsed": false,
    "pycharm": {
     "name": "#%% md\n"
    }
   }
  },
  {
   "cell_type": "code",
   "execution_count": 9,
   "outputs": [
    {
     "name": "stdout",
     "text": [
      "大一点\n",
      "大一点\n",
      "小一点\n",
      "小一点\n"
     ],
     "output_type": "stream"
    },
    {
     "traceback": [
      "\u001b[1;31m---------------------------------------------------------------------------\u001b[0m",
      "\u001b[1;31mValueError\u001b[0m                                Traceback (most recent call last)",
      "\u001b[1;32m<ipython-input-9-75884e866b78>\u001b[0m in \u001b[0;36m<module>\u001b[1;34m\u001b[0m\n\u001b[0;32m      5\u001b[0m \u001b[1;32mwhile\u001b[0m \u001b[1;32mTrue\u001b[0m\u001b[1;33m:\u001b[0m\u001b[1;33m\u001b[0m\u001b[1;33m\u001b[0m\u001b[0m\n\u001b[0;32m      6\u001b[0m     \u001b[0mcounter\u001b[0m \u001b[1;33m+=\u001b[0m \u001b[1;36m1\u001b[0m\u001b[1;33m\u001b[0m\u001b[1;33m\u001b[0m\u001b[0m\n\u001b[1;32m----> 7\u001b[1;33m     \u001b[0mnumber\u001b[0m \u001b[1;33m=\u001b[0m \u001b[0mint\u001b[0m\u001b[1;33m(\u001b[0m\u001b[0minput\u001b[0m\u001b[1;33m(\u001b[0m\u001b[1;34m'请输入: '\u001b[0m\u001b[1;33m)\u001b[0m\u001b[1;33m)\u001b[0m\u001b[1;33m\u001b[0m\u001b[1;33m\u001b[0m\u001b[0m\n\u001b[0m\u001b[0;32m      8\u001b[0m     \u001b[1;32mif\u001b[0m \u001b[0mnumber\u001b[0m \u001b[1;33m<\u001b[0m \u001b[0manswer\u001b[0m\u001b[1;33m:\u001b[0m\u001b[1;33m\u001b[0m\u001b[1;33m\u001b[0m\u001b[0m\n\u001b[0;32m      9\u001b[0m         \u001b[0mprint\u001b[0m\u001b[1;33m(\u001b[0m\u001b[1;34m'大一点'\u001b[0m\u001b[1;33m)\u001b[0m\u001b[1;33m\u001b[0m\u001b[1;33m\u001b[0m\u001b[0m\n",
      "\u001b[1;31mValueError\u001b[0m: invalid literal for int() with base 10: ''"
     ],
     "ename": "ValueError",
     "evalue": "invalid literal for int() with base 10: ''",
     "output_type": "error"
    }
   ],
   "source": [
    "import random\n",
    "\n",
    "answer = random.randint(1, 100)\n",
    "counter = 0\n",
    "while True:\n",
    "    counter += 1\n",
    "    number = int(input('请输入: '))\n",
    "    if number < answer:\n",
    "        print('大一点')\n",
    "    elif number > answer:\n",
    "        print('小一点')\n",
    "    else:\n",
    "        print('恭喜你猜对了!')\n",
    "        break\n",
    "print('你总共猜了%d次' % counter)\n",
    "if counter > 7:\n",
    "    print('你的智商余额明显不足，请找地方充值')"
   ],
   "metadata": {
    "collapsed": false,
    "pycharm": {
     "name": "#%%\n",
     "is_executing": false
    }
   }
  },
  {
   "cell_type": "markdown",
   "source": [
    "5、水仙花数\n",
    "\n",
    "找出100~999之间的所有水仙花数\n",
    "水仙花数是各位立方和等于这个数本身的数\n",
    "如: 153 = 1^3 + 5^3 + 3^3"
   ],
   "metadata": {
    "collapsed": false,
    "pycharm": {
     "name": "#%% md\n"
    }
   }
  },
  {
   "cell_type": "code",
   "execution_count": 10,
   "outputs": [
    {
     "name": "stdout",
     "text": [
      "153\n",
      "370\n",
      "371\n",
      "407\n"
     ],
     "output_type": "stream"
    }
   ],
   "source": [
    "for i in range(100,1000):\n",
    "    i_g = i%10\n",
    "    i_s = (i//10)%10\n",
    "    i_b = (i//100)%10\n",
    "    if i == i_g**3+i_s**3+i_b**3:\n",
    "        print(i)"
   ],
   "metadata": {
    "collapsed": false,
    "pycharm": {
     "name": "#%%\n",
     "is_executing": false
    }
   }
  },
  {
   "cell_type": "markdown",
   "source": [
    "6、回文数\n",
    "\n",
    "回文数是指将一个正整数从左往右排列和从右往左排列值一样的数"
   ],
   "metadata": {
    "collapsed": false,
    "pycharm": {
     "name": "#%% md\n"
    }
   }
  },
  {
   "cell_type": "code",
   "execution_count": 20,
   "outputs": [
    {
     "name": "stdout",
     "text": [
      "121是回文数\n"
     ],
     "output_type": "stream"
    }
   ],
   "source": [
    "# num = input('请输入一个正整数: ')\n",
    "# int(num)\n",
    "# num1 = list(num)\n",
    "# num1.reverse()\n",
    "# if list(num) == num1 :\n",
    "#     print('%s是回文数'%  num)\n",
    "# else:\n",
    "#     print('%s不是回文数' % num)\n",
    "\n",
    "num = int(input('请输入一个正整数: '))\n",
    "temp = num\n",
    "num2 = 0\n",
    "while temp > 0:\n",
    "    num2 *= 10\n",
    "    num2 += temp % 10\n",
    "    temp //= 10\n",
    "if num == num2:\n",
    "    print('%d是回文数' % num)\n",
    "else:\n",
    "    print('%d不是回文数' % num)"
   ],
   "metadata": {
    "collapsed": false,
    "pycharm": {
     "name": "#%%\n",
     "is_executing": false
    }
   }
  },
  {
   "cell_type": "markdown",
   "source": [
    "7、 完美数\n",
    "\n",
    "找出1~9999之间的所有完美数\n",
    "完美数是除自身外其他所有因子的和正好等于这个数本身的数\n",
    "例如: 6 = 1 + 2 + 3, 28 = 1 + 2 + 4 + 7 + 14"
   ],
   "metadata": {
    "collapsed": false,
    "pycharm": {
     "name": "#%% md\n"
    }
   }
  },
  {
   "cell_type": "code",
   "execution_count": 24,
   "outputs": [
    {
     "name": "stdout",
     "text": [
      "1\n",
      "6\n",
      "28\n",
      "496\n",
      "8128\n"
     ],
     "output_type": "stream"
    }
   ],
   "source": [
    "import math\n",
    "\n",
    "for num in range(1, 10000):\n",
    "    result = 0\n",
    "    for factor in range(1, int(math.sqrt(num)) + 1):\n",
    "        if num % factor == 0:\n",
    "            result += factor\n",
    "            if factor > 1 and num // factor != factor:\n",
    "                result += num // factor\n",
    "    if result == num:\n",
    "        print(num)"
   ],
   "metadata": {
    "collapsed": false,
    "pycharm": {
     "name": "#%%\n",
     "is_executing": false
    }
   }
  },
  {
   "cell_type": "markdown",
   "source": [
    "8、素数\n",
    "\n",
    "输出2~99之间的素数"
   ],
   "metadata": {
    "collapsed": false,
    "pycharm": {
     "name": "#%% md\n"
    }
   }
  },
  {
   "cell_type": "code",
   "execution_count": 25,
   "outputs": [
    {
     "name": "stdout",
     "text": [
      "2 3 5 7 11 13 17 19 23 29 31 37 41 43 47 53 59 61 67 71 73 79 83 89 97 "
     ],
     "output_type": "stream"
    }
   ],
   "source": [
    "import math\n",
    "\n",
    "for num in range(2, 100):\n",
    "    is_prime = True\n",
    "    for factor in range(2, int(math.sqrt(num)) + 1):\n",
    "        if num % factor == 0:\n",
    "            is_prime = False\n",
    "            break\n",
    "    if is_prime:\n",
    "        print(num, end=' ')\n",
    "        "
   ],
   "metadata": {
    "collapsed": false,
    "pycharm": {
     "name": "#%%\n",
     "is_executing": false
    }
   }
  },
  {
   "cell_type": "markdown",
   "source": [
    "9、乘法口诀"
   ],
   "metadata": {
    "collapsed": false,
    "pycharm": {
     "name": "#%% md\n"
    }
   }
  },
  {
   "cell_type": "code",
   "execution_count": 29,
   "outputs": [
    {
     "name": "stdout",
     "text": [
      "1*1=1\t\n",
      "2*1=2\t2*2=4\t\n",
      "3*1=3\t3*2=6\t3*3=9\t\n",
      "4*1=4\t4*2=8\t4*3=12\t4*4=16\t\n",
      "5*1=5\t5*2=10\t5*3=15\t5*4=20\t5*5=25\t\n",
      "6*1=6\t6*2=12\t6*3=18\t6*4=24\t6*5=30\t6*6=36\t\n",
      "7*1=7\t7*2=14\t7*3=21\t7*4=28\t7*5=35\t7*6=42\t7*7=49\t\n",
      "8*1=8\t8*2=16\t8*3=24\t8*4=32\t8*5=40\t8*6=48\t8*7=56\t8*8=64\t\n",
      "9*1=9\t9*2=18\t9*3=27\t9*4=36\t9*5=45\t9*6=54\t9*7=63\t9*8=72\t9*9=81\t\n",
      "****************************************************************************************************\n",
      "1*1=1\n",
      "2*1=2\t2*2=4\n",
      "3*1=3\t3*2=6\t3*3=9\n",
      "4*1=4\t4*2=8\t4*3=12\t4*4=16\n",
      "5*1=5\t5*2=10\t5*3=15\t5*4=20\t5*5=25\n",
      "6*1=6\t6*2=12\t6*3=18\t6*4=24\t6*5=30\t6*6=36\n",
      "7*1=7\t7*2=14\t7*3=21\t7*4=28\t7*5=35\t7*6=42\t7*7=49\n",
      "8*1=8\t8*2=16\t8*3=24\t8*4=32\t8*5=40\t8*6=48\t8*7=56\t8*8=64\n",
      "9*1=9\t9*2=18\t9*3=27\t9*4=36\t9*5=45\t9*6=54\t9*7=63\t9*8=72\t9*9=81\n"
     ],
     "output_type": "stream"
    }
   ],
   "source": [
    "for i in range(1, 10):\n",
    "    for j in range(1, i + 1):\n",
    "        print('%d*%d=%d' % (i, j, i * j), end='\\t')\n",
    "    print()\n",
    "\n",
    "b = ('\\n'.join(['\\t'.join([f\"{i}*{j}={i*j}\" for j in range(1,i+1)]) for i in range(1,10)]))\n",
    "\n",
    "print('*****'*20)\n",
    "print(b)"
   ],
   "metadata": {
    "collapsed": false,
    "pycharm": {
     "name": "#%%\n",
     "is_executing": false
    }
   }
  }
 ],
 "metadata": {
  "kernelspec": {
   "display_name": "Python 3",
   "language": "python",
   "name": "python3"
  },
  "language_info": {
   "codemirror_mode": {
    "name": "ipython",
    "version": 2
   },
   "file_extension": ".py",
   "mimetype": "text/x-python",
   "name": "python",
   "nbconvert_exporter": "python",
   "pygments_lexer": "ipython2",
   "version": "2.7.6"
  },
  "pycharm": {
   "stem_cell": {
    "cell_type": "raw",
    "source": [],
    "metadata": {
     "collapsed": false
    }
   }
  }
 },
 "nbformat": 4,
 "nbformat_minor": 0
}