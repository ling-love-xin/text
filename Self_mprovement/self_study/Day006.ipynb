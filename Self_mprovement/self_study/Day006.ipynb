{
 "cells": [
  {
   "cell_type": "markdown",
   "metadata": {
    "collapsed": true,
    "pycharm": {
     "name": "#%% md\n"
    }
   },
   "source": [
    "### 第六天 函数与模块\n",
    "---\n",
    "1、函数的定义和使用 - 计算组合数C(7,3)"
   ]
  },
  {
   "cell_type": "code",
   "execution_count": 2,
   "outputs": [
    {
     "name": "stdout",
     "text": [
      "7\n",
      "42\n",
      "210\n",
      "210\n"
     ],
     "output_type": "stream"
    }
   ],
   "source": [
    "def fun_1(num:int, n:int):\n",
    "    result = 1\n",
    "    \n",
    "    for i in range(n):\n",
    "        result = result*(num-i)    \n",
    "    return result\n",
    "print(fun_1(7,3))"
   ],
   "metadata": {
    "collapsed": false,
    "pycharm": {
     "name": "#%%\n",
     "is_executing": false
    }
   }
  },
  {
   "cell_type": "markdown",
   "source": [
    "2 、函数的定义和使用 - 求最大公约数和最小公倍数"
   ],
   "metadata": {
    "collapsed": false,
    "pycharm": {
     "name": "#%% md\n"
    }
   }
  },
  {
   "cell_type": "code",
   "execution_count": 3,
   "outputs": [
    {
     "name": "stdout",
     "text": [
      "3\n",
      "135\n"
     ],
     "output_type": "stream"
    }
   ],
   "source": [
    "def gcd(x, y):\n",
    "    if x > y:\n",
    "        (x, y) = (y, x)\n",
    "    for factor in range(x, 1, -1):\n",
    "        if x % factor == 0 and y % factor == 0:\n",
    "            return factor\n",
    "    return 1\n",
    "\n",
    "def lcm(x, y):\n",
    "    return x * y // gcd(x, y)\n",
    "\n",
    "print(gcd(15, 27))\n",
    "print(lcm(15, 27))"
   ],
   "metadata": {
    "collapsed": false,
    "pycharm": {
     "name": "#%%\n",
     "is_executing": false
    }
   }
  },
  {
   "cell_type": "markdown",
   "source": [
    "3、Python的内置函数\n",
    "- 数学相关: abs / divmod / pow / round / min / max / sum\n",
    "- 序列相关: len / range / next / filter / map / sorted / slice / reversed\n",
    "- 类型转换: chr / ord / str / bool / int / float / complex / bin / oct / hex\n",
    "- 数据结构: dict / list / set / tuple\n",
    "- 其他函数: all / any / id / input / open / print / type"
   ],
   "metadata": {
    "collapsed": false,
    "pycharm": {
     "name": "#%% md\n"
    }
   }
  },
  {
   "cell_type": "code",
   "execution_count": 7,
   "outputs": [
    {
     "name": "stdout",
     "text": [
      "দ\n",
      "0x6a\n",
      "1.2345\n",
      "-1\n",
      "2.8671833852463537\n",
      "['peach', 'durian']\n",
      "['orange', 'peach', 'durian', 'watermelon']\n",
      "['orange', 'durian']\n"
     ],
     "output_type": "stream"
    }
   ],
   "source": [
    "def myfilter(mystr):\n",
    "    return len(mystr) == 6\n",
    "\n",
    "\n",
    "# help()\n",
    "print(chr(0x9a6))\n",
    "print(hex(ord('j')))\n",
    "print(abs(-1.2345))\n",
    "print(round(-1.2345))\n",
    "print(pow(1.2345, 5))\n",
    "fruits = ['orange', 'peach', 'durian', 'watermelon']\n",
    "print(fruits[slice(1, 3)])\n",
    "fruits2 = list(filter(myfilter, fruits))\n",
    "print(fruits)\n",
    "print(fruits2)"
   ],
   "metadata": {
    "collapsed": false,
    "pycharm": {
     "name": "#%%\n",
     "is_executing": false
    }
   }
  },
  {
   "cell_type": "markdown",
   "source": [
    "4、 Python常用模块\n",
    "\n",
    "- 运行时服务相关模块: copy / pickle / sys / ...\n",
    "- 数学相关模块: decimal / math / random / ...\n",
    "- 字符串处理模块: codecs / re / ...\n",
    "- 文件处理相关模块: shutil / gzip / ...\n",
    "- 操作系统服务相关模块: datetime / os / time / logging / io / ...\n",
    "- 进程和线程相关模块: multiprocessing / threading / queue\n",
    "- 网络应用相关模块: ftplib / http / smtplib / urllib / ...\n",
    "- Web编程相关模块: cgi / webbrowser\n",
    "- 数据处理和编码模块: base64 / csv / html.parser / json / xml / ...\n"
   ],
   "metadata": {
    "collapsed": false,
    "pycharm": {
     "name": "#%% md\n"
    }
   }
  },
  {
   "cell_type": "code",
   "execution_count": 10,
   "outputs": [
    {
     "name": "stdout",
     "text": [
      "1576484976.2034771\n",
      "time.struct_time(tm_year=2019, tm_mon=12, tm_mday=16, tm_hour=16, tm_min=29, tm_sec=36, tm_wday=0, tm_yday=350, tm_isdst=0)\n",
      "2019\n",
      "12\n",
      "16\n",
      "Mon Dec 16 16:29:36 2019\n",
      "2019-12-16 16:29:36\n",
      "time.struct_time(tm_year=2018, tm_mon=1, tm_mday=1, tm_hour=0, tm_min=0, tm_sec=0, tm_wday=0, tm_yday=1, tm_isdst=-1)\n"
     ],
     "output_type": "stream"
    }
   ],
   "source": [
    "import time\n",
    "import shutil\n",
    "import os\n",
    "\n",
    "seconds = time.time()\n",
    "print(seconds)\n",
    "localtime = time.localtime(seconds)\n",
    "print(localtime)\n",
    "print(localtime.tm_year)\n",
    "print(localtime.tm_mon)\n",
    "print(localtime.tm_mday)\n",
    "asctime = time.asctime(localtime)\n",
    "print(asctime)\n",
    "strtime = time.strftime('%Y-%m-%d %H:%M:%S', localtime)\n",
    "print(strtime)\n",
    "mydate = time.strptime('2018-1-1', '%Y-%m-%d')\n",
    "print(mydate)\n",
    "\n",
    "# shutil.copy('/Users/Hao/hello.py', '/Users/Hao/Desktop/first.py')\n",
    "# os.system('ls -l')\n",
    "# os.chdir('/Users/Hao')\n",
    "# os.system('ls -l')\n",
    "# os.mkdir('test')"
   ],
   "metadata": {
    "collapsed": false,
    "pycharm": {
     "name": "#%%\n",
     "is_executing": false
    }
   }
  },
  {
   "cell_type": "markdown",
   "source": [
    "5、函数的参数"
   ],
   "metadata": {
    "collapsed": false,
    "pycharm": {
     "name": "#%% md\n"
    }
   }
  },
  {
   "cell_type": "code",
   "execution_count": 11,
   "outputs": [
    {
     "name": "stdout",
     "text": [
      "14\n",
      "530\n",
      "140\n",
      "13\n",
      "6\n",
      "15\n",
      "0\n",
      "欢迎你骆昊!\n",
      "欢迎你骆昊!\n",
      "你的联系电话是: 13866778899!\n",
      "没找到你的个人信息!\n"
     ],
     "output_type": "stream"
    }
   ],
   "source": [
    "# 参数默认值\n",
    "def f1(a, b=5, c=10):\n",
    "    return a + b * 2 + c * 3\n",
    "\n",
    "\n",
    "print(f1(1, 2, 3))\n",
    "print(f1(100, 200))\n",
    "print(f1(100))\n",
    "print(f1(c=2, b=3, a=1))\n",
    "\n",
    "\n",
    "# 可变参数\n",
    "def f2(*args):\n",
    "    sum = 0\n",
    "    for num in args:\n",
    "        sum += num\n",
    "    return sum\n",
    "\n",
    "\n",
    "print(f2(1, 2, 3))\n",
    "print(f2(1, 2, 3, 4, 5))\n",
    "print(f2())\n",
    "\n",
    "\n",
    "# 关键字参数\n",
    "def f3(**kw):\n",
    "    if 'name' in kw:\n",
    "        print('欢迎你%s!' % kw['name'])\n",
    "    elif 'tel' in kw:\n",
    "        print('你的联系电话是: %s!' % kw['tel'])\n",
    "    else:\n",
    "        print('没找到你的个人信息!')\n",
    "\n",
    "\n",
    "param = {'name': '骆昊', 'age': 38}\n",
    "f3(**param)"
   ],
   "metadata": {
    "collapsed": false,
    "pycharm": {
     "name": "#%%\n",
     "is_executing": false
    }
   }
  },
  {
   "cell_type": "markdown",
   "source": [
    "6、作用域问题"
   ],
   "metadata": {
    "collapsed": false,
    "pycharm": {
     "name": "#%% md\n"
    }
   }
  },
  {
   "cell_type": "code",
   "execution_count": 12,
   "outputs": [
    {
     "name": "stdout",
     "text": [
      "10\n",
      "100\n",
      "10\n",
      "200\n",
      "200\n"
     ],
     "output_type": "stream"
    }
   ],
   "source": [
    "# 局部作用域\n",
    "def foo1():\n",
    "    a = 5\n",
    "\n",
    "\n",
    "foo1()\n",
    "# print(a)  # NameError\n",
    "\n",
    "# 全局作用域\n",
    "b = 10\n",
    "\n",
    "\n",
    "def foo2():\n",
    "    print(b)\n",
    "\n",
    "\n",
    "foo2()\n",
    "\n",
    "\n",
    "def foo3():\n",
    "    b = 100     # 局部变量\n",
    "    print(b)\n",
    "\n",
    "\n",
    "foo3()\n",
    "print(b)\n",
    "\n",
    "\n",
    "def foo4():\n",
    "    global b\n",
    "    b = 200     # 全局变量\n",
    "    print(b)\n",
    "\n",
    "\n",
    "foo4()\n",
    "print(b)\n"
   ],
   "metadata": {
    "collapsed": false,
    "pycharm": {
     "name": "#%%\n",
     "is_executing": false
    }
   }
  }
 ],
 "metadata": {
  "kernelspec": {
   "display_name": "Python 3",
   "language": "python",
   "name": "python3"
  },
  "language_info": {
   "codemirror_mode": {
    "name": "ipython",
    "version": 2
   },
   "file_extension": ".py",
   "mimetype": "text/x-python",
   "name": "python",
   "nbconvert_exporter": "python",
   "pygments_lexer": "ipython2",
   "version": "2.7.6"
  },
  "pycharm": {
   "stem_cell": {
    "cell_type": "raw",
    "source": [],
    "metadata": {
     "collapsed": false
    }
   }
  }
 },
 "nbformat": 4,
 "nbformat_minor": 0
}