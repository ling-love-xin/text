{
 "cells": [
  {
   "cell_type": "markdown",
   "metadata": {
    "collapsed": true,
    "pycharm": {
     "name": "#%% md\n"
    }
   },
   "source": [
    "### 第四天 循环结构\n",
    "---\n",
    "1、循环求 1~100 的和"
   ]
  },
  {
   "cell_type": "code",
   "execution_count": 1,
   "outputs": [
    {
     "name": "stdout",
     "text": [
      "5050\n"
     ],
     "output_type": "stream"
    }
   ],
   "source": [
    "sum_all = 0\n",
    "for x in range(1,101):\n",
    "    sum_all+=x\n",
    "print(sum_all)\n",
    "# \n",
    "# sum_1= sum([i for i in range(1,101)])\n",
    "# print(sum_1)"
   ],
   "metadata": {
    "collapsed": false,
    "pycharm": {
     "name": "#%%\n",
     "is_executing": false
    }
   }
  },
  {
   "cell_type": "markdown",
   "source": [
    "2、 计算1~100之间的偶数和"
   ],
   "metadata": {
    "collapsed": false,
    "pycharm": {
     "name": "#%% md\n"
    }
   }
  },
  {
   "cell_type": "code",
   "execution_count": 3,
   "outputs": [
    {
     "name": "stdout",
     "text": [
      "2550\n"
     ],
     "output_type": "stream"
    }
   ],
   "source": [
    "sum_1 = 0\n",
    "for x in range(2, 101, 2):\n",
    "    sum_1 += x\n",
    "print(sum_1)\n",
    "\n",
    "#sum_b = sum([i for i in range(1,101) if i%2==0])"
   ],
   "metadata": {
    "collapsed": false,
    "pycharm": {
     "name": "#%%\n",
     "is_executing": false
    }
   }
  },
  {
   "cell_type": "markdown",
   "source": [
    "3、输入非负数n计算n!"
   ],
   "metadata": {
    "collapsed": false,
    "pycharm": {
     "name": "#%% md\n"
    }
   }
  },
  {
   "cell_type": "code",
   "execution_count": 4,
   "outputs": [
    {
     "name": "stdout",
     "text": [
      "4! = 24\n"
     ],
     "output_type": "stream"
    }
   ],
   "source": [
    "n = int(input(\"n = \"))\n",
    "result = 1\n",
    "for x in range(1,n+1):\n",
    "    result *= x\n",
    "print('%d! = %d' % (n, result))"
   ],
   "metadata": {
    "collapsed": false,
    "pycharm": {
     "name": "#%%\n",
     "is_executing": false
    }
   }
  },
  {
   "cell_type": "markdown",
   "source": [
    "4、判断一个真正数是不是素数"
   ],
   "metadata": {
    "collapsed": false,
    "pycharm": {
     "name": "#%% md\n"
    }
   }
  },
  {
   "cell_type": "code",
   "execution_count": 7,
   "outputs": [
    {
     "name": "stdout",
     "text": [
      "7是素数\n"
     ],
     "output_type": "stream"
    }
   ],
   "source": [
    "from math import sqrt\n",
    "\n",
    "num = int(input(\"请输入一个正整数：\"))\n",
    "end = int(sqrt(num))\n",
    "is_prime = True\n",
    "for x in range(2, end+1):\n",
    "    if num % x == 0:\n",
    "        is_prime = False\n",
    "        break\n",
    "        \n",
    "if is_prime and num != 1:\n",
    "    print(\"%d是素数\" % num)\n",
    "else:\n",
    "    print(f\"{num}不是素数\")"
   ],
   "metadata": {
    "collapsed": false,
    "pycharm": {
     "name": "#%%\n",
     "is_executing": false
    }
   }
  },
  {
   "cell_type": "markdown",
   "source": [
    "5、输入两个正整数计算最大公约数和最小公倍数"
   ],
   "metadata": {
    "collapsed": false,
    "pycharm": {
     "name": "#%% md\n"
    }
   }
  },
  {
   "cell_type": "code",
   "execution_count": 9,
   "outputs": [
    {
     "name": "stdout",
     "text": [
      "1243和2464的最大公约数是11\n",
      "1243和2464的最小公倍数是278432\n"
     ],
     "output_type": "stream"
    }
   ],
   "source": [
    "x = int(input('x = '))\n",
    "y = int(input('y = '))\n",
    "if x > y:\n",
    "    (x, y) = (y, x)\n",
    "for factor in range(x, 0, -1):\n",
    "    if x % factor == 0 and y % factor == 0:\n",
    "        print('%d和%d的最大公约数是%d' % (x, y, factor))\n",
    "        print('%d和%d的最小公倍数是%d' % (x, y, x * y // factor))\n",
    "        break\n",
    "        "
   ],
   "metadata": {
    "collapsed": false,
    "pycharm": {
     "name": "#%%\n",
     "is_executing": false
    }
   }
  }
 ],
 "metadata": {
  "kernelspec": {
   "display_name": "Python 3",
   "language": "python",
   "name": "python3"
  },
  "language_info": {
   "codemirror_mode": {
    "name": "ipython",
    "version": 2
   },
   "file_extension": ".py",
   "mimetype": "text/x-python",
   "name": "python",
   "nbconvert_exporter": "python",
   "pygments_lexer": "ipython2",
   "version": "2.7.6"
  },
  "pycharm": {
   "stem_cell": {
    "cell_type": "raw",
    "source": [],
    "metadata": {
     "collapsed": false
    }
   }
  }
 },
 "nbformat": 4,
 "nbformat_minor": 0
}