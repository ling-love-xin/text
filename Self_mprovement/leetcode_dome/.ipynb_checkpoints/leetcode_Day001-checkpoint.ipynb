{
 "cells": [
  {
   "cell_type": "markdown",
   "metadata": {},
   "source": [
    "### 1、两数之和\n",
    "\n",
    "给定一个整数数组 nums 和一个目标值 target，请你在该数组中找出和为目标值的那 两个 整数，并返回他们的数组下标。\n",
    "\n",
    "你可以假设每种输入只会对应一个答案。但是，你不能重复利用这个数组中同样的元素。\n",
    "\n",
    "**示例**\n",
    "```\n",
    "给定 nums = [2, 7, 11, 15], target = 9\n",
    "\n",
    "因为 nums[0] + nums[1] = 2 + 7 = 9\n",
    "所以返回 [0, 1]\n",
    "\n",
    "```\n",
    "\n"
   ]
  },
  {
   "cell_type": "code",
   "execution_count": 2,
   "metadata": {},
   "outputs": [
    {
     "name": "stdout",
     "output_type": "stream",
     "text": [
      "1.08 µs ± 205 ns per loop (mean ± std. dev. of 7 runs, 1000000 loops each)\n"
     ]
    }
   ],
   "source": [
    "%%timeit \n",
    "def self_fun(nums:list, target:int) -> list:\n",
    "    \"\"\"\n",
    "    自己的一种方向思维\n",
    "    \"\"\"\n",
    "    for index, valuse in enumerate(nums):\n",
    "        other_value = target - valuse\n",
    "        try:\n",
    "            if nums.index(other_value)!=index :\n",
    "                return [index, nums.index(other_value)]\n",
    "        except ValueError:\n",
    "            pass\n",
    "    return None\n",
    "\n",
    "\n",
    "self_fun([2,7,11,15],9)"
   ]
  },
  {
   "cell_type": "code",
   "execution_count": 9,
   "metadata": {},
   "outputs": [
    {
     "name": "stdout",
     "output_type": "stream",
     "text": [
      "654 ns ± 8.08 ns per loop (mean ± std. dev. of 7 runs, 1000000 loops each)\n"
     ]
    }
   ],
   "source": [
    "%%timeit\n",
    "def net_fun(nums:list, target:int) -> list:\n",
    "    \n",
    "    \"\"\"\n",
    "    网上普遍认可的一种方式\n",
    "    \"\"\"\n",
    "    hashmap={}\n",
    "    for index, valuse in enumerate(nums):\n",
    "        other_valuse = target - valuse\n",
    "        if other_valuse in hashmap:\n",
    "            return [hashmap[other_valuse], index]\n",
    "        hashmap[valuse]=index\n",
    "    return None\n",
    "\n",
    "\n",
    "net_fun([2,7,11,15],9)"
   ]
  },
  {
   "cell_type": "markdown",
   "metadata": {},
   "source": [
    "#### 对比结论\n",
    "- 两个方法的解题思路都是一致的\n",
    "- 时间复杂度是都是 O(n)\n",
    "- 空间复杂度 (因net_fun 又调用了字典，开辟了新的内存空间，而其处理逻辑又是一样的，因此self_fun 要小于net_fun)\n",
    "\n",
    "\n",
    "#### 官方题解思路\n",
    "1. **暴力法**\n",
    "\n",
    "暴力法很简单，遍历每个元素 xx，并查找是否存在一个值与 target - xtarget−x 相等的目标元素\n",
    "\n",
    "**java**\n",
    "```java\n",
    "\n",
    "class Solution {\n",
    "    public int[] twoSum(int[] nums, int target) {\n",
    "        for (int i = 0; i < nums.length; i++) {\n",
    "            for (int j = i + 1; j < nums.length; j++) {\n",
    "                if (nums[j] == target - nums[i]) {\n",
    "                    return new int[] { i, j };\n",
    "                }\n",
    "            }\n",
    "        }\n",
    "        throw new IllegalArgumentException(\"No two sum solution\");\n",
    "    }\n",
    "}\n",
    "```\n",
    "\n",
    "**复杂度分析**\n",
    "- 时间复杂度: $ o(n^2) $\n",
    "    对于每个元素，我们试图通过遍历数组的其余部分来寻找它锁对应的目标元素，这将消耗$ o(n) $ 的时间。因此其时间复杂度为 $ o(n^2) $ 。\n",
    "\n",
    "- 空间复杂度：$ o(1) $ \n"
   ]
  }
 ],
 "metadata": {
  "kernelspec": {
   "display_name": "Python 3",
   "language": "python",
   "name": "python3"
  },
  "language_info": {
   "codemirror_mode": {
    "name": "ipython",
    "version": 3
   },
   "file_extension": ".py",
   "mimetype": "text/x-python",
   "name": "python",
   "nbconvert_exporter": "python",
   "pygments_lexer": "ipython3",
   "version": "3.7.4"
  }
 },
 "nbformat": 4,
 "nbformat_minor": 4
}
